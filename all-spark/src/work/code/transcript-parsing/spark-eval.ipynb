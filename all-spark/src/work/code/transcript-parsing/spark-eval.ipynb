{
 "cells": [
  {
   "cell_type": "code",
   "execution_count": 1,
   "metadata": {},
   "outputs": [
    {
     "data": {
      "text/plain": [
       "spark = org.apache.spark.sql.SparkSession@1da34546\n"
      ]
     },
     "metadata": {},
     "output_type": "display_data"
    },
    {
     "data": {
      "text/html": [
       "<ul>\n",
       "<li><a href=\"Some(http://601be44c7da0:4040)\" target=\"new_tab\">Spark UI: local-1536733488166</a></li>\n",
       "</ul>"
      ],
      "text/plain": [
       "Spark local-1536733488166: Some(http://601be44c7da0:4040)"
      ]
     },
     "execution_count": 1,
     "metadata": {},
     "output_type": "execute_result"
    }
   ],
   "source": [
    "import org.apache.spark.sql.SparkSession\n",
    "import org.apache.spark.sql.{Dataset, Row, DataFrame, Column, DataFrameWriter, SaveMode}\n",
    "import org.apache.spark.sql.functions.{concat, lit,concat_ws}\n",
    "\n",
    "val spark = SparkSession\n",
    "  .builder()\n",
    "  .appName(\"Spark SQL basic example\")\n",
    "  .config(\"spark.some.config.option\", \"some-value\")\n",
    "  .getOrCreate()"
   ]
  },
  {
   "cell_type": "code",
   "execution_count": 3,
   "metadata": {},
   "outputs": [
    {
     "data": {
      "text/plain": [
       "transcript = /transcripts/usa-vs-ubl/usa-v-ubl-02.txt MapPartitionsRDD[1] at wholeTextFiles at <console>:30\n"
      ]
     },
     "metadata": {},
     "output_type": "display_data"
    },
    {
     "data": {
      "text/plain": [
       "1"
      ]
     },
     "execution_count": 3,
     "metadata": {},
     "output_type": "execute_result"
    }
   ],
   "source": [
    "var transcript = sc.wholeTextFiles(\"/transcripts/usa-vs-ubl/usa-v-ubl-02.txt\")\n",
    "transcript.count"
   ]
  },
  {
   "cell_type": "code",
   "execution_count": 42,
   "metadata": {},
   "outputs": [
    {
     "data": {
      "text/plain": [
       "pages = MapPartitionsRDD[133] at flatMap at <console>:35\n"
      ]
     },
     "metadata": {},
     "output_type": "display_data"
    },
    {
     "data": {
      "text/plain": [
       "Array(\"                                                                158\n",
       "   1   UNITED STATES DISTRICT COURT\n",
       "       SOUTHERN DISTRICT OF NEW YORK\n",
       "   2   ------------------------------x\n",
       "   3   UNITED STATES OF AMERICA\n",
       "   4              v.                           S(7) 98 Cr. 1023\n",
       "   5   USAMA BIN LADEN, et al.,\n",
       "   6                  Defendants.\n",
       "   7   ------------------------------x\n",
       "   8\n",
       "                                               New York, N.Y.\n",
       "   9                                           February 6, 2001\n",
       "                                               10:00 a.m.\n",
       "  10\n",
       "  11\n",
       "  12   Before:\n",
       "  13                       HON. LEONARD B. SAND,\n",
       "  14              ...\n"
      ]
     },
     "metadata": {},
     "output_type": "display_data"
    },
    {
     "data": {
      "text/plain": [
       "[                                                                158\n",
       "\n",
       "\n",
       "\n",
       "   1   UNITED STATES DISTRICT COURT\n",
       "       SOUTHERN DISTRICT OF NEW YORK\n",
       "   2   ------------------------------x\n",
       "\n",
       "   3   UNITED STATES OF AMERICA\n",
       "\n",
       "   4              v.                           S(7) 98 Cr. 1023\n",
       "\n",
       "   5   USAMA BIN LADEN, et al.,\n",
       "\n",
       "   6                  Defendants.\n",
       "\n",
       "   7   ------------------------------x\n",
       "\n",
       "   8\n",
       "                                               New York, N.Y.\n",
       "   9                                           February 6, 2001\n",
       "                                               10:00 a.m.\n",
       "  10\n",
       "\n",
       "  11\n",
       "\n",
       "  12   Before:\n",
       "\n",
       "  13                       HON. LEONARD B. SAND,\n",
       "\n",
       "  14                                           District Judge\n",
       "\n",
       "  15\n",
       "\n",
       "  16\n",
       "\n",
       "  17\n",
       "\n",
       "  18\n",
       "\n",
       "  19\n",
       "\n",
       "  20\n",
       "\n",
       "  21\n",
       "\n",
       "  22\n",
       "\n",
       "  23\n",
       "\n",
       "  24\n",
       "\n",
       "  25\n",
       "\n",
       "\n",
       ", \n",
       "                                                                346\n",
       "\n",
       "\n",
       "\n",
       "   1\n",
       "\n",
       "   2                        INDEX OF EXAMINATION\n",
       "\n",
       "   3   Witness                    D      X      RD     RX\n",
       "\n",
       "   4   JAMAL AHMED AL-FADL......161\n",
       "\n",
       "   5                        GOVERNMENT EXHIBITS\n",
       "\n",
       "   6   Exhibit No.                                     Received\n",
       "\n",
       "   7    100 .........................................227\n",
       "\n",
       "   8    101 .........................................228\n",
       "\n",
       "   9    105 .........................................229\n",
       "\n",
       "  10    103 .........................................229\n",
       "\n",
       "  11    106 .........................................230\n",
       "\n",
       "  12    90 ..........................................231\n",
       "\n",
       "  13    104 .........................................272\n",
       "\n",
       "  14\n",
       "\n",
       "  15\n",
       "\n",
       "  16\n",
       "\n",
       "  17\n",
       "\n",
       "  18\n",
       "\n",
       "  19\n",
       "\n",
       "  20\n",
       "\n",
       "  21\n",
       "\n",
       "  22\n",
       "\n",
       "  23\n",
       "\n",
       "  24\n",
       "\n",
       "  25\n",
       "\n",
       "\n",
       "  \n",
       "]"
      ]
     },
     "execution_count": 42,
     "metadata": {},
     "output_type": "execute_result"
    }
   ],
   "source": [
    "var pages = transcript.map(f => f._2)\n",
    "                    .flatMap(f => f.split(\"(?=\\n {63,}\\\\d+\\n)\"))\n",
    "                    \n",
    "                    \n",
    "pages.top(2)                 \n",
    "            \n"
   ]
  },
  {
   "cell_type": "code",
   "execution_count": null,
   "metadata": {},
   "outputs": [],
   "source": []
  }
 ],
 "metadata": {
  "kernelspec": {
   "display_name": "Apache Toree - Scala",
   "language": "scala",
   "name": "apache_toree_scala"
  },
  "language_info": {
   "codemirror_mode": "text/x-scala",
   "file_extension": ".scala",
   "mimetype": "text/x-scala",
   "name": "scala",
   "pygments_lexer": "scala",
   "version": "2.11.8"
  }
 },
 "nbformat": 4,
 "nbformat_minor": 2
}
